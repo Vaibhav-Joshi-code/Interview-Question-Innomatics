{
  "nbformat": 4,
  "nbformat_minor": 0,
  "metadata": {
    "colab": {
      "name": "Interview Question Innomatics.ipynb",
      "provenance": [],
      "collapsed_sections": []
    },
    "kernelspec": {
      "name": "python3",
      "display_name": "Python 3"
    },
    "language_info": {
      "name": "python"
    }
  },
  "cells": [
    {
      "cell_type": "markdown",
      "metadata": {
        "id": "1jmN0RHQmlC0"
      },
      "source": [
        "The strategy that Kanav Sir taught us is to use Divide and Conquer strategy to solve problems. Let's divide the question into tasks"
      ]
    },
    {
      "cell_type": "code",
      "metadata": {
        "id": "p_TA06F5mRgQ"
      },
      "source": [
        "#Task 1: Randomly generate a matrix\n",
        "\n",
        "#Task2 - (10^6)*2\n",
        "\n",
        "#Task3 - Calculate the centroid\n",
        "\n",
        "#Task4 - Find the euclidean distance between each datapoint and centroid"
      ],
      "execution_count": null,
      "outputs": []
    },
    {
      "cell_type": "code",
      "metadata": {
        "id": "CxEqkcGjmSdg"
      },
      "source": [
        "import numpy as np"
      ],
      "execution_count": 1,
      "outputs": []
    },
    {
      "cell_type": "code",
      "metadata": {
        "colab": {
          "base_uri": "https://localhost:8080/"
        },
        "id": "u1OE7yF6mSgx",
        "outputId": "e50ece9e-adee-4054-f6d4-2f099fd2de70"
      },
      "source": [
        "a = np.random.randint(10000, size=(1000000,2))# Generates a matrix of size 1000000*2 with all entries as integers between 0-1000000\n",
        "print(a)# considering all rows of a as points (x,y) in Cartesian Co-ordinate system"
      ],
      "execution_count": 2,
      "outputs": [
        {
          "output_type": "stream",
          "name": "stdout",
          "text": [
            "[[2168 6963]\n",
            " [6821 7040]\n",
            " [3199 6249]\n",
            " ...\n",
            " [1848 3174]\n",
            " [4071 3313]\n",
            " [6273  353]]\n"
          ]
        }
      ]
    },
    {
      "cell_type": "code",
      "metadata": {
        "id": "7GW2Rs0OmSkZ"
      },
      "source": [
        "centroid = np.mean(a, axis=0) # considering mean as centroid\n",
        "xmean = centroid[0] # the first column is considered as x values, hence mean of x\n",
        "ymean = centroid[1] # the second column is considered as y values, hence mean of y"
      ],
      "execution_count": 3,
      "outputs": []
    },
    {
      "cell_type": "code",
      "metadata": {
        "colab": {
          "base_uri": "https://localhost:8080/"
        },
        "id": "oMXbhia5mSn0",
        "outputId": "17f4546b-0a2d-4c15-8fdd-ed1f71d0e189"
      },
      "source": [
        "print(xmean,ymean) # printing xmean and ymean"
      ],
      "execution_count": 4,
      "outputs": [
        {
          "output_type": "stream",
          "name": "stdout",
          "text": [
            "5003.11338 4997.940536\n"
          ]
        }
      ]
    },
    {
      "cell_type": "code",
      "metadata": {
        "colab": {
          "base_uri": "https://localhost:8080/"
        },
        "id": "gPiOR8RamSq5",
        "outputId": "37fae2cd-333d-457c-c6b2-0b9997a83eeb"
      },
      "source": [
        "# using %%time for getting efficiency\n",
        "%%time \n",
        "dist = np.sqrt(np.sum((a - centroid)**2,axis=1)) # euclidean distance of all points with centroid"
      ],
      "execution_count": 5,
      "outputs": [
        {
          "output_type": "stream",
          "name": "stdout",
          "text": [
            "CPU times: user 43 ms, sys: 7.71 ms, total: 50.8 ms\n",
            "Wall time: 53.9 ms\n"
          ]
        }
      ]
    },
    {
      "cell_type": "code",
      "metadata": {
        "colab": {
          "base_uri": "https://localhost:8080/"
        },
        "id": "I4KL7LpEmSxQ",
        "outputId": "a14e3305-dbe2-423f-ad64-cc04d0320ad2"
      },
      "source": [
        "dist.shape # getting shape of dist"
      ],
      "execution_count": 6,
      "outputs": [
        {
          "output_type": "execute_result",
          "data": {
            "text/plain": [
              "(1000000,)"
            ]
          },
          "metadata": {},
          "execution_count": 6
        }
      ]
    },
    {
      "cell_type": "code",
      "metadata": {
        "id": "L5wFiformS1B"
      },
      "source": [
        "dist = dist.reshape(-1,1)"
      ],
      "execution_count": 7,
      "outputs": []
    },
    {
      "cell_type": "code",
      "metadata": {
        "colab": {
          "base_uri": "https://localhost:8080/"
        },
        "id": "iDGSdWCumS4y",
        "outputId": "7914ae2b-f659-4054-f701-876845b17381"
      },
      "source": [
        "np.hstack([a,dist])"
      ],
      "execution_count": 8,
      "outputs": [
        {
          "output_type": "execute_result",
          "data": {
            "text/plain": [
              "array([[2168.        , 6963.        , 3449.5400526 ],\n",
              "       [6821.        , 7040.        , 2733.99316343],\n",
              "       [3199.        , 6249.        , 2195.44411688],\n",
              "       ...,\n",
              "       [1848.        , 3174.        , 3644.37916791],\n",
              "       [4071.        , 3313.        , 1925.58042237],\n",
              "       [6273.        ,  353.        , 4815.40077363]])"
            ]
          },
          "metadata": {},
          "execution_count": 8
        }
      ]
    },
    {
      "cell_type": "code",
      "metadata": {
        "id": "zpZMQBcFmTak"
      },
      "source": [
        ""
      ],
      "execution_count": null,
      "outputs": []
    }
  ]
}